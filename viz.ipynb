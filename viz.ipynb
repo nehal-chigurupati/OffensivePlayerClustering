{
 "cells": [
  {
   "cell_type": "code",
   "execution_count": 1,
   "id": "1dcfeea4",
   "metadata": {},
   "outputs": [],
   "source": [
    "import pandas as pd\n",
    "import numpy as np\n",
    "from nba_api.stats.static import players\n",
    "import ast"
   ]
  },
  {
   "cell_type": "code",
   "execution_count": 2,
   "id": "5ab2416c",
   "metadata": {},
   "outputs": [],
   "source": [
    "lineup_data = pd.read_csv(\"Data/lineups_cleaned.csv\")"
   ]
  },
  {
   "cell_type": "code",
   "execution_count": 3,
   "id": "834b83a5",
   "metadata": {},
   "outputs": [],
   "source": [
    "iso_clusters = pd.read_csv(\"Results/isolation_labels.csv\")\n",
    "cut_clusters = pd.read_csv(\"Results/cut_labels.csv\")\n",
    "off_screen_clusters = pd.read_csv(\"Results/off_screen_labels.csv\")\n",
    "pnr_handler_clusters = pd.read_csv(\"Results/PnR_handler_labels.csv\")\n",
    "pnr_roller_clusters = pd.read_csv(\"Results/PnR_roller_labels.csv\")\n",
    "spot_up_clusters = pd.read_csv(\"Results/spot_up_labels.csv\")\n",
    "post_up_clusters = pd.read_csv(\"Results/post_up_labels.csv\")"
   ]
  },
  {
   "cell_type": "code",
   "execution_count": 4,
   "id": "712b7fc3",
   "metadata": {},
   "outputs": [
    {
     "name": "stdout",
     "output_type": "stream",
     "text": [
      "[0 1 2]\n"
     ]
    }
   ],
   "source": [
    "print(np.unique(post_up_clusters[\"LABEL\"]))"
   ]
  },
  {
   "cell_type": "code",
   "execution_count": 5,
   "id": "8230b251",
   "metadata": {},
   "outputs": [],
   "source": [
    "iso_num_cluster_zero = []\n",
    "iso_num_cluster_one = []\n",
    "iso_num_cluster_two = []"
   ]
  },
  {
   "cell_type": "code",
   "execution_count": 6,
   "id": "2fac5a79",
   "metadata": {},
   "outputs": [],
   "source": [
    "for index, row in lineup_data.iterrows():\n",
    "    players = ast.literal_eval(row[\"LINEUP\"])\n",
    "    num_c0 = 0\n",
    "    num_c1 = 0\n",
    "    num_c2 = 0\n",
    "    \n",
    "    for player in players:\n",
    "        matches = iso_clusters[iso_clusters['PLAYER'] == player][\"LABEL\"].tolist()\n",
    "        if len(matches) == 1:\n",
    "            if matches[0] == 0:\n",
    "                num_c0 += 1\n",
    "            elif matches[0] == 1:\n",
    "                num_c1 += 1\n",
    "            elif matches[0] == 2:\n",
    "                num_c2 += 1\n",
    "        \n",
    "    iso_num_cluster_zero.append(num_c0)\n",
    "    iso_num_cluster_one.append(num_c1)\n",
    "    iso_num_cluster_two.append(num_c2)"
   ]
  },
  {
   "cell_type": "code",
   "execution_count": 7,
   "id": "0a506bff",
   "metadata": {},
   "outputs": [],
   "source": [
    "cut_num_cluster_zero = []\n",
    "cut_num_cluster_one = []\n",
    "cut_num_cluster_two = []\n",
    "for index, row in lineup_data.iterrows():\n",
    "    players = ast.literal_eval(row[\"LINEUP\"])\n",
    "    num_c0 = 0\n",
    "    num_c1 = 0\n",
    "    num_c2 = 0\n",
    "    \n",
    "    for player in players:\n",
    "        matches = cut_clusters[cut_clusters['PLAYER'] == player][\"LABEL\"].tolist()\n",
    "        if len(matches) == 1:\n",
    "            if matches[0] == 0:\n",
    "                num_c0 += 1\n",
    "            elif matches[0] == 1:\n",
    "                num_c1 += 1\n",
    "            elif matches[0] == 2:\n",
    "                num_c2 += 1\n",
    "        \n",
    "    cut_num_cluster_zero.append(num_c0)\n",
    "    cut_num_cluster_one.append(num_c1)\n",
    "    cut_num_cluster_two.append(num_c2)"
   ]
  },
  {
   "cell_type": "code",
   "execution_count": 8,
   "id": "531df22e",
   "metadata": {},
   "outputs": [],
   "source": [
    "off_screen_num_cluster_zero = []\n",
    "off_screen_num_cluster_one = []\n",
    "off_screen_num_cluster_two = []\n",
    "for index, row in lineup_data.iterrows():\n",
    "    players = ast.literal_eval(row[\"LINEUP\"])\n",
    "    num_c0 = 0\n",
    "    num_c1 = 0\n",
    "    num_c2 = 0\n",
    "    \n",
    "    for player in players:\n",
    "        matches = off_screen_clusters[off_screen_clusters['PLAYER'] == player][\"LABEL\"].tolist()\n",
    "        if len(matches) == 1:\n",
    "            if matches[0] == 0:\n",
    "                num_c0 += 1\n",
    "            elif matches[0] == 1:\n",
    "                num_c1 += 1\n",
    "            elif matches[0] == 2:\n",
    "                num_c2 += 1\n",
    "        \n",
    "    off_screen_num_cluster_zero.append(num_c0)\n",
    "    off_screen_num_cluster_one.append(num_c1)\n",
    "    off_screen_num_cluster_two.append(num_c2)"
   ]
  },
  {
   "cell_type": "code",
   "execution_count": 9,
   "id": "a96caee6",
   "metadata": {},
   "outputs": [],
   "source": [
    "pnr_handler_num_cluster_zero = []\n",
    "pnr_handler_num_cluster_one = []\n",
    "pnr_handler_num_cluster_two = []\n",
    "for index, row in lineup_data.iterrows():\n",
    "    players = ast.literal_eval(row[\"LINEUP\"])\n",
    "    num_c0 = 0\n",
    "    num_c1 = 0\n",
    "    num_c2 = 0\n",
    "    \n",
    "    for player in players:\n",
    "        matches = pnr_handler_clusters[pnr_handler_clusters['PLAYER'] == player][\"LABEL\"].tolist()\n",
    "        if len(matches) == 1:\n",
    "            if matches[0] == 0:\n",
    "                num_c0 += 1\n",
    "            elif matches[0] == 1:\n",
    "                num_c1 += 1\n",
    "            elif matches[0] == 2:\n",
    "                num_c2 += 1\n",
    "        \n",
    "    pnr_handler_num_cluster_zero.append(num_c0)\n",
    "    pnr_handler_num_cluster_one.append(num_c1)\n",
    "    pnr_handler_num_cluster_two.append(num_c2)"
   ]
  },
  {
   "cell_type": "code",
   "execution_count": 10,
   "id": "c8635852",
   "metadata": {},
   "outputs": [],
   "source": [
    "pnr_roller_num_cluster_zero = []\n",
    "pnr_roller_num_cluster_one = []\n",
    "for index, row in lineup_data.iterrows():\n",
    "    players = ast.literal_eval(row[\"LINEUP\"])\n",
    "    num_c0 = 0\n",
    "    num_c1 = 0\n",
    "    \n",
    "    for player in players:\n",
    "        matches = pnr_roller_clusters[pnr_roller_clusters['PLAYER'] == player][\"LABEL\"].tolist()\n",
    "        if len(matches) == 1:\n",
    "            if matches[0] == 0:\n",
    "                num_c0 += 1\n",
    "            elif matches[0] == 1:\n",
    "                num_c1 += 1\n",
    "        \n",
    "    pnr_roller_num_cluster_zero.append(num_c0)\n",
    "    pnr_roller_num_cluster_one.append(num_c1)"
   ]
  },
  {
   "cell_type": "code",
   "execution_count": 11,
   "id": "5052851b",
   "metadata": {},
   "outputs": [],
   "source": [
    "spot_up_num_cluster_zero = []\n",
    "spot_up_num_cluster_one = []\n",
    "for index, row in lineup_data.iterrows():\n",
    "    players = ast.literal_eval(row[\"LINEUP\"])\n",
    "    num_c0 = 0\n",
    "    num_c1 = 0\n",
    "    \n",
    "    for player in players:\n",
    "        matches = spot_up_clusters[spot_up_clusters['PLAYER'] == player][\"LABEL\"].tolist()\n",
    "        if len(matches) == 1:\n",
    "            if matches[0] == 0:\n",
    "                num_c0 += 1\n",
    "            elif matches[0] == 1:\n",
    "                num_c1 += 1\n",
    "        \n",
    "    spot_up_num_cluster_zero.append(num_c0)\n",
    "    spot_up_num_cluster_one.append(num_c1)"
   ]
  },
  {
   "cell_type": "code",
   "execution_count": 12,
   "id": "375a9392",
   "metadata": {},
   "outputs": [],
   "source": [
    "post_up_num_cluster_zero = []\n",
    "post_up_num_cluster_one = []\n",
    "post_up_num_cluster_two = []\n",
    "for index, row in lineup_data.iterrows():\n",
    "    players = ast.literal_eval(row[\"LINEUP\"])\n",
    "    num_c0 = 0\n",
    "    num_c1 = 0\n",
    "    num_c2 = 0\n",
    "    \n",
    "    for player in players:\n",
    "        matches = post_up_clusters[post_up_clusters['PLAYER'] == player][\"LABEL\"].tolist()\n",
    "        if len(matches) == 1:\n",
    "            if matches[0] == 0:\n",
    "                num_c0 += 1\n",
    "            elif matches[0] == 1:\n",
    "                num_c1 += 1\n",
    "            elif matches[0] == 2:\n",
    "                num_c2 += 1\n",
    "        \n",
    "    post_up_num_cluster_zero.append(num_c0)\n",
    "    post_up_num_cluster_one.append(num_c1)\n",
    "    post_up_num_cluster_two.append(num_c2)"
   ]
  },
  {
   "cell_type": "code",
   "execution_count": 13,
   "id": "61bddfd9",
   "metadata": {},
   "outputs": [],
   "source": [
    "out_dict = {\n",
    "    \"lineup\": lineup_data[\"LINEUP\"],\n",
    "    \"iso_c0\": iso_num_cluster_zero,\n",
    "    \"iso_c1\": iso_num_cluster_one,\n",
    "    \"iso_c2\": iso_num_cluster_two,\n",
    "    \"cut_c0\": cut_num_cluster_zero,\n",
    "    \"cut_c1\": cut_num_cluster_one,\n",
    "    \"cut_c2\": cut_num_cluster_two,\n",
    "    \"off_screen_c0\": off_screen_num_cluster_zero,\n",
    "    \"off_screen_c1\": off_screen_num_cluster_one,\n",
    "    \"off_screen_c2\": off_screen_num_cluster_two,\n",
    "    \"pnr_handler_c0\": pnr_handler_num_cluster_zero,\n",
    "    \"pnr_handler_c1\": pnr_handler_num_cluster_one,\n",
    "    \"pnr_handler_c2\": pnr_handler_num_cluster_two,\n",
    "    \"pnr_roller_c0\": pnr_roller_num_cluster_zero,\n",
    "    \"pnr_roller_c1\": pnr_roller_num_cluster_one,\n",
    "    \"spot_up_c0\": spot_up_num_cluster_zero,\n",
    "    \"spot_up_c1\": spot_up_num_cluster_one,\n",
    "    \"post_up_c0\": post_up_num_cluster_zero,\n",
    "    \"post_up_c1\": post_up_num_cluster_one,\n",
    "    \"off_rating\": lineup_data[\"OFF_RATING\"]\n",
    "}\n",
    "df = pd.DataFrame(out_dict)\n",
    "df.to_csv(\"Results/lineup_composition.csv\")"
   ]
  },
  {
   "cell_type": "code",
   "execution_count": null,
   "id": "9a86633f",
   "metadata": {},
   "outputs": [],
   "source": []
  }
 ],
 "metadata": {
  "kernelspec": {
   "display_name": "Python 3",
   "language": "python",
   "name": "python3"
  },
  "language_info": {
   "codemirror_mode": {
    "name": "ipython",
    "version": 3
   },
   "file_extension": ".py",
   "mimetype": "text/x-python",
   "name": "python",
   "nbconvert_exporter": "python",
   "pygments_lexer": "ipython3",
   "version": "3.11.4"
  }
 },
 "nbformat": 4,
 "nbformat_minor": 5
}
